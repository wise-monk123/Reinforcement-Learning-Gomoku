{
  "nbformat": 4,
  "nbformat_minor": 0,
  "metadata": {
    "kernelspec": {
      "display_name": "Python 3",
      "language": "python",
      "name": "python3"
    },
    "language_info": {
      "codemirror_mode": {
        "name": "ipython",
        "version": 3
      },
      "file_extension": ".py",
      "mimetype": "text/x-python",
      "name": "python",
      "nbconvert_exporter": "python",
      "pygments_lexer": "ipython3",
      "version": "3.7.4"
    },
    "colab": {
      "name": "Colab-1-Min-Max-Algorithm.ipynb",
      "provenance": []
    }
  },
  "cells": [
    {
      "cell_type": "markdown",
      "metadata": {
        "id": "pdZXKlrLBByi",
        "colab_type": "text"
      },
      "source": [
        "# Min-Max algorithm implemetation for Gomoku player"
      ]
    },
    {
      "cell_type": "markdown",
      "metadata": {
        "id": "WqwZWpeUCJzH",
        "colab_type": "text"
      },
      "source": [
        "__Define a random player to play against min-max__"
      ]
    },
    {
      "cell_type": "code",
      "metadata": {
        "id": "8yyvu2lABByl",
        "colab_type": "code",
        "colab": {}
      },
      "source": [
        "from util import print_board\n",
        "from GomokuBoard import GomokuBoard, GameResult\n",
        "from GamePlayerInterface import GamePlayerInterface\n",
        "\n",
        "class RandomPlayer(GamePlayerInterface):\n",
        "\n",
        "    def __init__(self):\n",
        "        self.side = None\n",
        "        super().__init__()\n",
        "\n",
        "    def move(self, GomokuBoard : GomokuBoard) -> (GameResult, bool):\n",
        "\n",
        "#         print('move to', GomokuBoard .random_empty_spot())\n",
        "        location = input(\"Your move: \")\n",
        "        _, res, finished = GomokuBoard .move(int(location), self.side)\n",
        "        \n",
        "        print_board(GomokuBoard )\n",
        "\n",
        "        return res, finished\n",
        "\n",
        "    def final_result(self, result: GameResult):\n",
        "        pass\n",
        "\n",
        "    def new_game(self, side: int):\n",
        "        self.side = side"
      ],
      "execution_count": 0,
      "outputs": []
    },
    {
      "cell_type": "code",
      "metadata": {
        "id": "y6eEJq86BByn",
        "colab_type": "code",
        "colab": {}
      },
      "source": [
        "from IPython.display import HTML, display\n",
        "from GomokuBoard  import GomokuBoard, GameResult, CROSS, NAUGHT, EMPTY\n",
        "from util import print_board, play_game"
      ],
      "execution_count": 0,
      "outputs": []
    },
    {
      "cell_type": "markdown",
      "metadata": {
        "id": "BJGQ4tUYCdZU",
        "colab_type": "text"
      },
      "source": [
        "__We use an 8*8 board for Gomoku__"
      ]
    },
    {
      "cell_type": "code",
      "metadata": {
        "id": "92mLex-vBByq",
        "colab_type": "code",
        "colab": {}
      },
      "source": [
        "board = GomokuBoard()\n",
        "player1 = RandomPlayer()\n",
        "player2 = RandomPlayer()"
      ],
      "execution_count": 0,
      "outputs": []
    },
    {
      "cell_type": "code",
      "metadata": {
        "id": "LLFRG7yHBByt",
        "colab_type": "code",
        "colab": {},
        "outputId": "64c55740-ca44-453a-ce6e-b0bc1e67379b"
      },
      "source": [
        "result = play_game(board, player1, player2)"
      ],
      "execution_count": 0,
      "outputs": [
        {
          "output_type": "stream",
          "text": [
            "Your move: 11\n",
            "self.state [0 0 0 0 0 0 0 0 0 0 0 0 0 0 0 0 0 0 0 0 0 0 0 0 0 0 0 0 0 0 0 0 0 0 0 0 0\n",
            " 0 0 0 0 0 0 0 0 0 0 0 0 0 0 0 0 0 0 0 0 0 0 0 0 0 0 0]\n",
            "position 11\n"
          ],
          "name": "stdout"
        },
        {
          "output_type": "display_data",
          "data": {
            "text/html": [
              "\n",
              "    <style>\n",
              "    .rendered_html table, .rendered_html th, .rendered_html tr, .rendered_html td {\n",
              "      border: 1px  black solid !important;\n",
              "      color: black !important;\n",
              "    }\n",
              "    </style>\n",
              "    <table border=\"1\"><tr><td>&ensp;</td><td>&ensp;</td><td>&ensp;</td><td>&ensp;</td><td>&ensp;</td><td>&ensp;</td><td>&ensp;</td><td>&ensp;</td></tr><tr><td>&ensp;</td><td>&ensp;</td><td>&ensp;</td><td>x</td><td>&ensp;</td><td>&ensp;</td><td>&ensp;</td><td>&ensp;</td></tr><tr><td>&ensp;</td><td>&ensp;</td><td>&ensp;</td><td>&ensp;</td><td>&ensp;</td><td>&ensp;</td><td>&ensp;</td><td>&ensp;</td></tr><tr><td>&ensp;</td><td>&ensp;</td><td>&ensp;</td><td>&ensp;</td><td>&ensp;</td><td>&ensp;</td><td>&ensp;</td><td>&ensp;</td></tr><tr><td>&ensp;</td><td>&ensp;</td><td>&ensp;</td><td>&ensp;</td><td>&ensp;</td><td>&ensp;</td><td>&ensp;</td><td>&ensp;</td></tr><tr><td>&ensp;</td><td>&ensp;</td><td>&ensp;</td><td>&ensp;</td><td>&ensp;</td><td>&ensp;</td><td>&ensp;</td><td>&ensp;</td></tr><tr><td>&ensp;</td><td>&ensp;</td><td>&ensp;</td><td>&ensp;</td><td>&ensp;</td><td>&ensp;</td><td>&ensp;</td><td>&ensp;</td></tr><tr><td>&ensp;</td><td>&ensp;</td><td>&ensp;</td><td>&ensp;</td><td>&ensp;</td><td>&ensp;</td><td>&ensp;</td><td>&ensp;</td></tr></table>"
            ],
            "text/plain": [
              "<IPython.core.display.HTML object>"
            ]
          },
          "metadata": {
            "tags": []
          }
        }
      ]
    },
    {
      "cell_type": "code",
      "metadata": {
        "id": "JXoFzJh6BByw",
        "colab_type": "code",
        "colab": {}
      },
      "source": [
        "print_board(board)\n",
        "\n",
        "if result == GameResult.CROSS_WIN:\n",
        "    print(\"Cross won\")\n",
        "elif result == GameResult.NAUGHT_WIN:\n",
        "    print(\"Naught won\")\n",
        "else:\n",
        "    print(\"Draw\")"
      ],
      "execution_count": 0,
      "outputs": []
    },
    {
      "cell_type": "markdown",
      "metadata": {
        "id": "sYzwd1oaD-nu",
        "colab_type": "text"
      },
      "source": [
        "__Min-Max vs Random player(Min-max player go first)__"
      ]
    },
    {
      "cell_type": "code",
      "metadata": {
        "id": "A7j-qRMzBBy5",
        "colab_type": "code",
        "colab": {}
      },
      "source": [
        "from GamePlayerInterface import GamePlayerInterface\n",
        "\n",
        "def battle(player1: GamePlayerInterface, player2: GamePlayerInterface, num_games: int = 100000):\n",
        "    board = GomokuBoard()\n",
        "    draw_count = 0\n",
        "    cross_count = 0\n",
        "    naught_count = 0\n",
        "    for _ in range(num_games):\n",
        "        result = play_game(board, player1, player2)\n",
        "        if result == GameResult.CROSS_WIN:\n",
        "            cross_count += 1\n",
        "        elif result == GameResult.NAUGHT_WIN:\n",
        "            naught_count += 1\n",
        "        else:\n",
        "            draw_count += 1\n",
        "\n",
        "    print(\"After {} game we have draws: {}, GamePlayerInterface 1 wins: {}, and GamePlayerInterface 2 wins: {}.\".format(num_games, draw_count,\n",
        "                                                                                         cross_count, naught_count))\n",
        "\n",
        "    print(\"Which gives percentages of draws: {:.2%}, GamePlayerInterface 1 wins: {:.2%}, and GamePlayerInterface 2 wins:  {:.2%}\".format(\n",
        "        draw_count / num_games, cross_count / num_games, naught_count / num_games))"
      ],
      "execution_count": 0,
      "outputs": []
    },
    {
      "cell_type": "code",
      "metadata": {
        "id": "uB_kLt-VBBy8",
        "colab_type": "code",
        "colab": {},
        "outputId": "58500b6f-27d9-4d05-c437-7b920764f9c4"
      },
      "source": [
        "from MinMaxAlgorithm import MinMaxAlgorithm\n",
        "\n",
        "battle(MinMaxAlgorithm(), RandomPlayer())"
      ],
      "execution_count": 0,
      "outputs": [
        {
          "output_type": "stream",
          "text": [
            "After 100000 game we have draws: 489, GamePlayerInterface 1 wins: 99511, and GamePlayerInterface 2 wins: 0.\n",
            "Which gives percentages of draws: 0.49%, GamePlayerInterface 1 wins: 99.51%, and GamePlayerInterface 2 wins:  0.00%\n"
          ],
          "name": "stdout"
        }
      ]
    },
    {
      "cell_type": "markdown",
      "metadata": {
        "collapsed": true,
        "id": "pfTaWwkpBBy9",
        "colab_type": "text"
      },
      "source": [
        "__Min-Max vs Random player(Random player go first)__"
      ]
    },
    {
      "cell_type": "code",
      "metadata": {
        "id": "i2RSFC_nBBy-",
        "colab_type": "code",
        "colab": {},
        "outputId": "f0530a95-8849-4f96-df31-ed0cf0e74172"
      },
      "source": [
        "battle(RandomPlayer(), MinMaxAlgorithm())"
      ],
      "execution_count": 0,
      "outputs": [
        {
          "output_type": "stream",
          "text": [
            "After 100000 game we have draws: 19323, GamePlayerInterface 1 wins: 0, and GamePlayerInterface 2 wins: 80677.\n",
            "Which gives percentages of draws: 19.32%, GamePlayerInterface 1 wins: 0.00%, and GamePlayerInterface 2 wins:  80.68%\n"
          ],
          "name": "stdout"
        }
      ]
    },
    {
      "cell_type": "markdown",
      "metadata": {
        "id": "84lorUt0BBzA",
        "colab_type": "text"
      },
      "source": [
        "__2 MinMax players against each other__"
      ]
    },
    {
      "cell_type": "code",
      "metadata": {
        "id": "PFjH_GjDBBzA",
        "colab_type": "code",
        "colab": {},
        "outputId": "63494be8-8d8b-4656-aaac-f6ea044c91bb"
      },
      "source": [
        "battle(MinMaxAlgorithm(), MinMaxAlgorithm())"
      ],
      "execution_count": 0,
      "outputs": [
        {
          "output_type": "stream",
          "text": [
            "After 100000 game we have draws: 100000, GamePlayerInterface 1 wins: 0, and GamePlayerInterface 2 wins: 0.\n",
            "Which gives percentages of draws: 100.00%, GamePlayerInterface 1 wins: 0.00%, and GamePlayerInterface 2 wins:  0.00%\n"
          ],
          "name": "stdout"
        }
      ]
    },
    {
      "cell_type": "markdown",
      "metadata": {
        "id": "HXn6hYxwBBzC",
        "colab_type": "text"
      },
      "source": [
        "we get 100% draws.\n",
        "\n",
        "# Summary\n",
        "\n",
        "This gives us an additional baseline:\n",
        "\n",
        "| GamePlayerInterface | P1 Win | P2 Win | Draw |\n",
        "| --- | ---| --- | --- |\n",
        "| Min Max - Random | 99.5%     | 0%     | 0.5% |\n",
        "| Random - Min Max | 0%    | 80% | 20% |\n",
        "| Min Max - Min Max | 0%    | 0% | 100% |\n",
        "\n",
        "This means, in order to be considered as playing better than pure random, a player should achieve significantly more than 20% draws against a Min-Max player when going first and significantly more than 1% draws when going second.\n"
      ]
    },
    {
      "cell_type": "code",
      "metadata": {
        "id": "LO3ySyA3GVR8",
        "colab_type": "code",
        "colab": {}
      },
      "source": [
        ""
      ],
      "execution_count": 0,
      "outputs": []
    }
  ]
}